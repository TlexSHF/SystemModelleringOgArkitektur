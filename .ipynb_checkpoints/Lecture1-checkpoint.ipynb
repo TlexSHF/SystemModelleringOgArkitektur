{
 "cells": [
  {
   "cell_type": "code",
   "execution_count": 7,
   "id": "e0bb1c9e",
   "metadata": {},
   "outputs": [],
   "source": [
    "class Employee:\n",
    "    \n",
    "    def __init__(self, name, salary):\n",
    "        self.name=name\n",
    "        self.__salary=salary\n",
    "        \n",
    "    def getSalary(self):\n",
    "        return self.__salary\n",
    "        "
   ]
  },
  {
   "cell_type": "code",
   "execution_count": 8,
   "id": "6e3b8b75",
   "metadata": {},
   "outputs": [
    {
     "name": "stdout",
     "output_type": "stream",
     "text": [
      "Simone\n",
      "8000\n",
      "Person2\n",
      "2000\n"
     ]
    }
   ],
   "source": [
    "emp = Employee('Simone', 8000)\n",
    "emp1 = Employee('Person2', 2000)\n",
    "\n",
    "print(emp.name)\n",
    "print(emp.getSalary())\n",
    "print(emp1.name)\n",
    "print(emp1.getSalary())"
   ]
  },
  {
   "cell_type": "code",
   "execution_count": 9,
   "id": "cae0d802",
   "metadata": {},
   "outputs": [
    {
     "name": "stdout",
     "output_type": "stream",
     "text": [
      "8000\n"
     ]
    }
   ],
   "source": [
    "#Name mangling:\n",
    "print(emp._Employee__salary)"
   ]
  },
  {
   "cell_type": "code",
   "execution_count": 12,
   "id": "be5f8e1a",
   "metadata": {},
   "outputs": [
    {
     "name": "stdout",
     "output_type": "stream",
     "text": [
      "NLP\n"
     ]
    }
   ],
   "source": [
    "class Company:\n",
    "    def __init__(self):\n",
    "        self._project = \"NLP\"\n",
    "\n",
    "class Employee(Company):\n",
    "    def __init__(self, name):\n",
    "        self.name = name\n",
    "        Company.__init__(self)\n",
    "        \n",
    "    def show(self):\n",
    "        print(\"Employee name:\", self.name)\n",
    "        print(\"Working on project:\", self._project)\n",
    "      \n",
    "emp = Employee(\"Simone\")\n",
    "print(emp._project)"
   ]
  }
 ],
 "metadata": {
  "kernelspec": {
   "display_name": "Python 3 (ipykernel)",
   "language": "python",
   "name": "python3"
  },
  "language_info": {
   "codemirror_mode": {
    "name": "ipython",
    "version": 3
   },
   "file_extension": ".py",
   "mimetype": "text/x-python",
   "name": "python",
   "nbconvert_exporter": "python",
   "pygments_lexer": "ipython3",
   "version": "3.8.13"
  }
 },
 "nbformat": 4,
 "nbformat_minor": 5
}
