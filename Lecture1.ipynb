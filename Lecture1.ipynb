{
 "cells": [
  {
   "cell_type": "code",
   "execution_count": 7,
   "id": "e0bb1c9e",
   "metadata": {},
   "outputs": [],
   "source": [
    "class Employee:\n",
    "    \n",
    "    def __init__(self, name, salary):\n",
    "        self.name=name\n",
    "        self.__salary=salary\n",
    "        \n",
    "    def getSalary(self):\n",
    "        return self.__salary\n",
    "        "
   ]
  },
  {
   "cell_type": "code",
   "execution_count": 8,
   "id": "6e3b8b75",
   "metadata": {},
   "outputs": [
    {
     "name": "stdout",
     "output_type": "stream",
     "text": [
      "Simone\n",
      "8000\n",
      "Person2\n",
      "2000\n"
     ]
    }
   ],
   "source": [
    "emp = Employee('Simone', 8000)\n",
    "emp1 = Employee('Person2', 2000)\n",
    "\n",
    "print(emp.name)\n",
    "print(emp.getSalary())\n",
    "print(emp1.name)\n",
    "print(emp1.getSalary())"
   ]
  },
  {
   "cell_type": "code",
   "execution_count": 9,
   "id": "cae0d802",
   "metadata": {},
   "outputs": [
    {
     "name": "stdout",
     "output_type": "stream",
     "text": [
      "8000\n"
     ]
    }
   ],
   "source": [
    "#Name mangling:\n",
    "print(emp._Employee__salary)"
   ]
  },
  {
   "cell_type": "code",
   "execution_count": 12,
   "id": "be5f8e1a",
   "metadata": {},
   "outputs": [
    {
     "name": "stdout",
     "output_type": "stream",
     "text": [
      "NLP\n"
     ]
    }
   ],
   "source": [
    "class Company:\n",
    "    def __init__(self):\n",
    "        self._project = \"NLP\"\n",
    "\n",
    "class Employee(Company):\n",
    "    def __init__(self, name):\n",
    "        self.name = name\n",
    "        Company.__init__(self)\n",
    "        \n",
    "    def show(self):\n",
    "        print(\"Employee name:\", self.name)\n",
    "        print(\"Working on project:\", self._project)\n",
    "      \n",
    "emp = Employee(\"Simone\")\n",
    "print(emp._project)"
   ]
  },
  {
   "cell_type": "markdown",
   "id": "d92be39f",
   "metadata": {},
   "source": [
    "### Abstraction"
   ]
  },
  {
   "cell_type": "code",
   "execution_count": 4,
   "id": "acdbc1b0",
   "metadata": {},
   "outputs": [
    {
     "name": "stdout",
     "output_type": "stream",
     "text": [
      "2\n"
     ]
    }
   ],
   "source": [
    "x = 2\n",
    "y = x\n",
    "\n",
    "x += 1\n",
    "\n",
    "print(y)\n"
   ]
  },
  {
   "cell_type": "code",
   "execution_count": null,
   "id": "6ac90c26",
   "metadata": {},
   "outputs": [],
   "source": [
    "class Super():\n",
    "    def __init__(self):\n",
    "        #construct\n",
    "    \n",
    "    def notAbstract(self):\n",
    "        #do things\n",
    "    \n",
    "    @abstractmethod\n",
    "    def abstract(self):\n",
    "        #do abstract things\n",
    "        \n",
    "class Child(Super):\n",
    "    def __init__(self):\n",
    "        #construct\n",
    "        \n",
    "    def abstract(self):\n",
    "        #implementing "
   ]
  },
  {
   "cell_type": "code",
   "execution_count": null,
   "id": "bff40129",
   "metadata": {},
   "outputs": [],
   "source": [
    "class parent:\n",
    "    def fun1(self):\n",
    "        print(\"Hello Parent\")\n",
    "        \n",
    "class child(parent):\n",
    "    def func2(self):\n",
    "        print(\"Hello Child\")\n",
    "        \n",
    "test = child()\n",
    "test.func1()\n",
    "test.func2()"
   ]
  },
  {
   "cell_type": "markdown",
   "id": "ee01a6c0",
   "metadata": {},
   "source": [
    "### MULTIPLE INHERITANCE"
   ]
  },
  {
   "cell_type": "code",
   "execution_count": null,
   "id": "b9724f00",
   "metadata": {},
   "outputs": [],
   "source": [
    "# only the first func2 is printed. Python is lazy so chooses the first answer.\n",
    "class parent1:\n",
    "    def func1(self):\n",
    "        print(\"Hello Parent1\")\n",
    "        \n",
    "class parent2:\n",
    "    def func2(self):\n",
    "        print(\"Hello Parent2\")\n",
    "        \n",
    "class parent3:\n",
    "    def func2(self):\n",
    "        print(\"Hello Parent3\")\n",
    "        \n",
    "class child(parent1, parent2, parent3):\n",
    "    def func3(self):\n",
    "        print(\"Hello Child\")\n",
    "        \n",
    "test = child()\n",
    "test.func1()\n",
    "test.func2()\n",
    "test.func3()\n",
    "\n",
    "print()"
   ]
  },
  {
   "cell_type": "code",
   "execution_count": null,
   "id": "ff7afd97",
   "metadata": {},
   "outputs": [],
   "source": [
    "issubclass(child, parent) #True - child is a subclass of parent \n",
    "issubclass(parent, child) #False - parent is not the subclass of child\n",
    "\n",
    "a = child\n",
    "isinstance(a, child) #True - a is an instance of child\n",
    "isinstance(a, parent) #True - a is an instance of parent"
   ]
  },
  {
   "cell_type": "code",
   "execution_count": 6,
   "id": "0d06af53",
   "metadata": {},
   "outputs": [
    {
     "name": "stdout",
     "output_type": "stream",
     "text": [
      "Circle\n",
      "153.93804002589985\n",
      "I am a two-dimentional shape\n"
     ]
    }
   ],
   "source": [
    "from math import pi\n",
    "class Shape:\n",
    "    def __init__(self, name):\n",
    "        self.name = name\n",
    "    \n",
    "    def area(self):\n",
    "        pass\n",
    "    \n",
    "    def fact(self):\n",
    "        return \"I am a two-dimentional shape\"\n",
    "    \n",
    "    # toString\n",
    "    def __str__(self):\n",
    "        return self.name\n",
    "    \n",
    "class Circle(Shape):\n",
    "    def __init__(self, radius):\n",
    "        super().__init__(\"Circle\")\n",
    "        self.radius = radius\n",
    "        \n",
    "    def area(self):\n",
    "        return pi*self.radius**2\n",
    "    \n",
    "shape_circle = Circle(7)\n",
    "\n",
    "print(shape_circle)\n",
    "print(shape_circle.area())\n",
    "print(shape_circle.fact())"
   ]
  }
 ],
 "metadata": {
  "kernelspec": {
   "display_name": "Python 3 (ipykernel)",
   "language": "python",
   "name": "python3"
  },
  "language_info": {
   "codemirror_mode": {
    "name": "ipython",
    "version": 3
   },
   "file_extension": ".py",
   "mimetype": "text/x-python",
   "name": "python",
   "nbconvert_exporter": "python",
   "pygments_lexer": "ipython3",
   "version": "3.7.6"
  }
 },
 "nbformat": 4,
 "nbformat_minor": 5
}
